{
 "cells": [
  {
   "cell_type": "markdown",
   "metadata": {},
   "source": [
    "# PYTHON ASSINGMENT 1"
   ]
  },
  {
   "cell_type": "code",
   "execution_count": 1,
   "metadata": {},
   "outputs": [
    {
     "name": "stdout",
     "output_type": "stream",
     "text": [
      "-2 = x1\n",
      "23 = x2\n"
     ]
    }
   ],
   "source": [
    "# (1) Solve the quadratic equation using the formula\n",
    "a = -3\n",
    "b = 7\n",
    "c = 2\n",
    "\n",
    "x1=(-7+((7**2-4*(-3)*2)**0.5))/2*(-3)\n",
    "x2=(-7-((7**2-4*(-3)*2)**0.5))/2*(-3)\n",
    "print(round(float(x1)),'= x1')\n",
    "print(round(float(x2)),'= x2')"
   ]
  },
  {
   "cell_type": "code",
   "execution_count": null,
   "metadata": {},
   "outputs": [],
   "source": [
    "# question 2 Write six different variables examples\n",
    "variaBles\n",
    "iPhone\n",
    "thereFore\n",
    "PRICE_WATER\n",
    "workShop\n",
    "Operation"
   ]
  },
  {
   "cell_type": "code",
   "execution_count": null,
   "metadata": {},
   "outputs": [],
   "source": [
    "# question 3 Give six difference between mathematical operators and python operators using tablu\n",
    ".................................................................................................\n",
    "-                         -             -\n",
    "x                         -             *\n",
    "mathematical division     -             /\n",
    "square root sign          _           0.5\n",
    "Exponential X             _          **\n",
    "Mod                       -          %\n",
    "                           -         //\n",
    "BODMAS                    -         BEDMAS    \n"
   ]
  },
  {
   "cell_type": "code",
   "execution_count": null,
   "metadata": {},
   "outputs": [],
   "source": [
    "# (4) To a 5 year old, define variables and give six different rules of variables.\n",
    "\n",
    "Variables are like containers used to store information\n",
    "\n",
    "Different rules of Variables\n",
    "# (1) Use carmel case e.g iPhone, eBay\n",
    "# (2) Variables must not contain symbols\n",
    "# (3) Variables must not contain space instead  use underscore_\n",
    "# (4) The best practice for variables is using small letters all through"
   ]
  },
  {
   "cell_type": "code",
   "execution_count": null,
   "metadata": {},
   "outputs": [],
   "source": [
    "# (5) Solve 2.3E-16*10e-16)\n",
    "b1=2e3*10**(-16)\n",
    "\n",
    "b2= **0.5(3**2/4**2)-((**0.5))"
   ]
  },
  {
   "cell_type": "code",
   "execution_count": 3,
   "metadata": {
    "scrolled": true
   },
   "outputs": [
    {
     "name": "stdout",
     "output_type": "stream",
     "text": [
      "2.3e-16\n"
     ]
    }
   ],
   "source": [
    "# question 5 Solve (i)\n",
    "c1=2.3e-16\n",
    "print(c1)"
   ]
  },
  {
   "cell_type": "code",
   "execution_count": 8,
   "metadata": {},
   "outputs": [
    {
     "name": "stdout",
     "output_type": "stream",
     "text": [
      "10.213626781767559\n"
     ]
    }
   ],
   "source": [
    "# question 5 solve (ii)\n",
    "b=(3**2)**0.5/4**-(3**0.5/9**0.5)**0.5+(3**0.5/2)**0.5/(3**0.5)*3\n",
    "print(b)"
   ]
  },
  {
   "cell_type": "code",
   "execution_count": 9,
   "metadata": {},
   "outputs": [
    {
     "name": "stdout",
     "output_type": "stream",
     "text": [
      "1.6118548977353129\n"
     ]
    }
   ],
   "source": [
    "c=(3**0.5/2)**0.5/(3**0.5)*3\n",
    "print(c)"
   ]
  }
 ],
 "metadata": {
  "kernelspec": {
   "display_name": "Python 3",
   "language": "python",
   "name": "python3"
  },
  "language_info": {
   "codemirror_mode": {
    "name": "ipython",
    "version": 3
   },
   "file_extension": ".py",
   "mimetype": "text/x-python",
   "name": "python",
   "nbconvert_exporter": "python",
   "pygments_lexer": "ipython3",
   "version": "3.7.3"
  }
 },
 "nbformat": 4,
 "nbformat_minor": 2
}
