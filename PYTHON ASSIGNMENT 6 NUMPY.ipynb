{
 "cells": [
  {
   "cell_type": "raw",
   "metadata": {},
   "source": [
    "1a) What is a numpy to a 5yr old?\n",
    "\n",
    "Numpy is nhumerical python, it's a library used for working with arrays."
   ]
  },
  {
   "cell_type": "raw",
   "metadata": {},
   "source": [
    "1b) Give 5 differences between numpy and list\n",
    "i. Numpy stores larger data than lists\n",
    "ii. Numpy variable is known as arrays\n",
    "iii. Numpy is 50x faster than list\n",
    "iv. Numpy is used for mathematical computation, like algebra and fourier transformation\n",
    "v. Numpy is library whilelist is a data type"
   ]
  },
  {
   "cell_type": "code",
   "execution_count": null,
   "metadata": {},
   "outputs": [],
   "source": [
    "2) Write a program"
   ]
  },
  {
   "cell_type": "code",
   "execution_count": 3,
   "metadata": {},
   "outputs": [
    {
     "name": "stdout",
     "output_type": "stream",
     "text": [
      "[[2 3 4]\n",
      " [1 3 5]]\n",
      "<class 'numpy.ndarray'>\n"
     ]
    }
   ],
   "source": [
    "judith=np.array([[[2,3,4],[1,3,5]],[[5,6,7],[8,9,10]]])\n",
    "print(judith[0])\n",
    "print(type(judith))"
   ]
  },
  {
   "cell_type": "raw",
   "metadata": {},
   "source": [
    "3) Do a reversal of np.array([16,17,18,19,20]) and a jump of 3 (that from left to right) "
   ]
  },
  {
   "cell_type": "code",
   "execution_count": 2,
   "metadata": {},
   "outputs": [
    {
     "name": "stdout",
     "output_type": "stream",
     "text": [
      "[20 19 18 17 16]\n"
     ]
    }
   ],
   "source": [
    "# reversal\n",
    "\n",
    "import numpy as np\n",
    "\n",
    "arr = np.array([16, 17, 18, 19, 20])\n",
    "\n",
    "print(arr[::-1])"
   ]
  },
  {
   "cell_type": "code",
   "execution_count": 4,
   "metadata": {},
   "outputs": [
    {
     "name": "stdout",
     "output_type": "stream",
     "text": [
      "[16 19]\n"
     ]
    }
   ],
   "source": [
    "# jump of 3\n",
    "arr = np.array([20, 19, 18, 17, 16])\n",
    "\n",
    "print(arr[::-3])"
   ]
  },
  {
   "cell_type": "raw",
   "metadata": {},
   "source": [
    "4) Given np.array([1,2,3,4]) use \"ndim\" to create 7 dimension"
   ]
  },
  {
   "cell_type": "code",
   "execution_count": 6,
   "metadata": {},
   "outputs": [
    {
     "name": "stdout",
     "output_type": "stream",
     "text": [
      "[[[[[[[1 2 3 4]]]]]]]\n",
      "number of dimensions : 7\n"
     ]
    }
   ],
   "source": [
    "arr = np.array([1, 2, 3, 4], ndmin=7) \n",
    "\n",
    "print(arr)\n",
    "print('number of dimensions :', arr.ndim)"
   ]
  },
  {
   "cell_type": "code",
   "execution_count": null,
   "metadata": {},
   "outputs": [],
   "source": [
    "5) Slice \"12\" in [[[2,3,4],[5,6,7]],[[8,9,10],[11,12,13]]]"
   ]
  },
  {
   "cell_type": "code",
   "execution_count": 7,
   "metadata": {},
   "outputs": [
    {
     "name": "stdout",
     "output_type": "stream",
     "text": [
      "12\n"
     ]
    }
   ],
   "source": [
    "import numpy as np\n",
    "\n",
    "arr = np.array([[[2,3,4],[5,6,7]],[[8,9,10],[11,12,13]]])\n",
    "\n",
    "print(arr[1,1,1])"
   ]
  },
  {
   "cell_type": "code",
   "execution_count": null,
   "metadata": {},
   "outputs": [],
   "source": []
  }
 ],
 "metadata": {
  "kernelspec": {
   "display_name": "Python 3",
   "language": "python",
   "name": "python3"
  },
  "language_info": {
   "codemirror_mode": {
    "name": "ipython",
    "version": 3
   },
   "file_extension": ".py",
   "mimetype": "text/x-python",
   "name": "python",
   "nbconvert_exporter": "python",
   "pygments_lexer": "ipython3",
   "version": "3.7.3"
  }
 },
 "nbformat": 4,
 "nbformat_minor": 2
}
